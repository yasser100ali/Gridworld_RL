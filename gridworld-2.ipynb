{
 "cells": [
  {
   "cell_type": "code",
   "execution_count": 61,
   "id": "c4bea967-5bd7-40e2-ab8d-d213c1167dec",
   "metadata": {},
   "outputs": [],
   "source": [
    "import torch\n",
    "from torch import nn\n",
    "import random\n",
    "import matplotlib.pyplot as plt\n",
    "import numpy as np\n",
    "import sys\n",
    "import pandas as pd"
   ]
  },
  {
   "cell_type": "code",
   "execution_count": 16,
   "id": "de0821ee-f0ea-44ac-964f-6248cced733f",
   "metadata": {},
   "outputs": [],
   "source": [
    "def randPair(s,e):\n",
    "    return np.random.randint(s,e), np.random.randint(s,e)\n",
    "\n",
    "class BoardPiece:\n",
    "\n",
    "    def __init__(self, name, code, pos):\n",
    "        self.name = name #name of the piece\n",
    "        self.code = code #an ASCII character to display on the board\n",
    "        self.pos = pos #2-tuple e.g. (1,4)\n",
    "\n",
    "class BoardMask:\n",
    "\n",
    "    def __init__(self, name, mask, code):\n",
    "        self.name = name\n",
    "        self.mask = mask\n",
    "        self.code = code\n",
    "\n",
    "    def get_positions(self): #returns tuple of arrays\n",
    "        return np.nonzero(self.mask)\n",
    "\n",
    "def zip_positions2d(positions): #positions is tuple of two arrays\n",
    "    x,y = positions\n",
    "    return list(zip(x,y))\n",
    "\n",
    "class GridBoard:\n",
    "\n",
    "    def __init__(self, size=4):\n",
    "        self.size = size #Board dimensions, e.g. 4 x 4\n",
    "        self.components = {} #name : board piece\n",
    "        self.masks = {}\n",
    "\n",
    "    def addPiece(self, name, code, pos=(0,0)):\n",
    "        newPiece = BoardPiece(name, code, pos)\n",
    "        self.components[name] = newPiece\n",
    "\n",
    "    #basically a set of boundary elements\n",
    "    def addMask(self, name, mask, code):\n",
    "        #mask is a 2D-numpy array with 1s where the boundary elements are\n",
    "        newMask = BoardMask(name, mask, code)\n",
    "        self.masks[name] = newMask\n",
    "\n",
    "    def movePiece(self, name, pos):\n",
    "        move = True\n",
    "        for _, mask in self.masks.items():\n",
    "            if pos in zip_positions2d(mask.get_positions()):\n",
    "                move = False\n",
    "        if move:\n",
    "            self.components[name].pos = pos\n",
    "\n",
    "    def delPiece(self, name):\n",
    "        del self.components['name']\n",
    "\n",
    "    def render(self):\n",
    "        dtype = '<U2'\n",
    "        displ_board = np.zeros((self.size, self.size), dtype=dtype)\n",
    "        displ_board[:] = ' '\n",
    "\n",
    "        for name, piece in self.components.items():\n",
    "            displ_board[piece.pos] = piece.code\n",
    "\n",
    "        for name, mask in self.masks.items():\n",
    "            displ_board[mask.get_positions()] = mask.code\n",
    "\n",
    "        return displ_board\n",
    "\n",
    "    def render_np(self):\n",
    "        num_pieces = len(self.components) + len(self.masks)\n",
    "        displ_board = np.zeros((num_pieces, self.size, self.size), dtype=np.uint8)\n",
    "        layer = 0\n",
    "        for name, piece in self.components.items():\n",
    "            pos = (layer,) + piece.pos\n",
    "            displ_board[pos] = 1\n",
    "            layer += 1\n",
    "\n",
    "        for name, mask in self.masks.items():\n",
    "            x,y = self.masks['boundary'].get_positions()\n",
    "            z = np.repeat(layer,len(x))\n",
    "            a = (z,x,y)\n",
    "            displ_board[a] = 1\n",
    "            layer += 1\n",
    "        return displ_board\n",
    "\n",
    "def addTuple(a,b):\n",
    "    return tuple([sum(x) for x in zip(a,b)])"
   ]
  },
  {
   "cell_type": "code",
   "execution_count": 17,
   "id": "06209ee5-c56f-4fef-936d-5e898325920f",
   "metadata": {},
   "outputs": [],
   "source": [
    "class Gridworld:\n",
    "\n",
    "    def __init__(self, size=4, mode='static'):\n",
    "        if size >= 4:\n",
    "            self.board = GridBoard(size=size)\n",
    "        else:\n",
    "            print(\"Minimum board size is 4. Initialized to size 4.\")\n",
    "            self.board = GridBoard(size=4)\n",
    "\n",
    "        #Add pieces, positions will be updated later\n",
    "        self.board.addPiece('Player','P',(0,0))\n",
    "        self.board.addPiece('Goal','+',(1,0))\n",
    "        self.board.addPiece('Pit','-',(2,0))\n",
    "        self.board.addPiece('Wall','W',(3,0))\n",
    "\n",
    "        if mode == 'static':\n",
    "            self.initGridStatic()\n",
    "        elif mode == 'player':\n",
    "            self.initGridPlayer()\n",
    "        else:\n",
    "            self.initGridRand()\n",
    "\n",
    "    #Initialize stationary grid, all items are placed deterministically\n",
    "    def initGridStatic(self):\n",
    "        #Setup static pieces\n",
    "        self.board.components['Player'].pos = (0,3) #Row, Column\n",
    "        self.board.components['Goal'].pos = (0,0)\n",
    "        self.board.components['Pit'].pos = (0,1)\n",
    "        self.board.components['Wall'].pos = (1,1)\n",
    "\n",
    "    #Check if board is initialized appropriately (no overlapping pieces)\n",
    "    #also remove impossible-to-win boards\n",
    "    def validateBoard(self):\n",
    "        valid = True\n",
    "\n",
    "        player = self.board.components['Player']\n",
    "        goal = self.board.components['Goal']\n",
    "        wall = self.board.components['Wall']\n",
    "        pit = self.board.components['Pit']\n",
    "\n",
    "        all_positions = [piece for name,piece in self.board.components.items()]\n",
    "        all_positions = [player.pos, goal.pos, wall.pos, pit.pos]\n",
    "        if len(all_positions) > len(set(all_positions)):\n",
    "            return False\n",
    "\n",
    "        corners = [(0,0),(0,self.board.size), (self.board.size,0), (self.board.size,self.board.size)]\n",
    "        #if player is in corner, can it move? if goal is in corner, is it blocked?\n",
    "        if player.pos in corners or goal.pos in corners:\n",
    "            val_move_pl = [self.validateMove('Player', addpos) for addpos in [(0,1),(1,0),(-1,0),(0,-1)]]\n",
    "            val_move_go = [self.validateMove('Goal', addpos) for addpos in [(0,1),(1,0),(-1,0),(0,-1)]]\n",
    "            if 0 not in val_move_pl or 0 not in val_move_go:\n",
    "                #print(self.display())\n",
    "                #print(\"Invalid board. Re-initializing...\")\n",
    "                valid = False\n",
    "\n",
    "        return valid\n",
    "\n",
    "    #Initialize player in random location, but keep wall, goal and pit stationary\n",
    "    def initGridPlayer(self):\n",
    "        #height x width x depth (number of pieces)\n",
    "        self.initGridStatic()\n",
    "        #place player\n",
    "        self.board.components['Player'].pos = randPair(0,self.board.size)\n",
    "\n",
    "        if (not self.validateBoard()):\n",
    "            #print('Invalid grid. Rebuilding..')\n",
    "            self.initGridPlayer()\n",
    "\n",
    "    #Initialize grid so that goal, pit, wall, player are all randomly placed\n",
    "    def initGridRand(self):\n",
    "        #height x width x depth (number of pieces)\n",
    "        self.board.components['Player'].pos = randPair(0,self.board.size)\n",
    "        self.board.components['Goal'].pos = randPair(0,self.board.size)\n",
    "        self.board.components['Pit'].pos = randPair(0,self.board.size)\n",
    "        self.board.components['Wall'].pos = randPair(0,self.board.size)\n",
    "\n",
    "        if (not self.validateBoard()):\n",
    "            #print('Invalid grid. Rebuilding..')\n",
    "            self.initGridRand()\n",
    "\n",
    "    def validateMove(self, piece, addpos=(0,0)):\n",
    "        outcome = 0 #0 is valid, 1 invalid, 2 lost game\n",
    "        pit = self.board.components['Pit'].pos\n",
    "        wall = self.board.components['Wall'].pos\n",
    "        new_pos = addTuple(self.board.components[piece].pos, addpos)\n",
    "        if new_pos == wall:\n",
    "            outcome = 1 #block move, player can't move to wall\n",
    "        elif max(new_pos) > (self.board.size-1):    #if outside bounds of board\n",
    "            outcome = 1\n",
    "        elif min(new_pos) < 0: #if outside bounds\n",
    "            outcome = 1\n",
    "        elif new_pos == pit:\n",
    "            outcome = 2\n",
    "\n",
    "        return outcome\n",
    "\n",
    "    def makeMove(self, action):\n",
    "        #need to determine what object (if any) is in the new grid spot the player is moving to\n",
    "        #actions in {u,d,l,r}\n",
    "        def checkMove(addpos):\n",
    "            if self.validateMove('Player', addpos) in [0,2]:\n",
    "                new_pos = addTuple(self.board.components['Player'].pos, addpos)\n",
    "                self.board.movePiece('Player', new_pos)\n",
    "\n",
    "        if action == 'u': #up\n",
    "            checkMove((-1,0))\n",
    "        elif action == 'd': #down\n",
    "            checkMove((1,0))\n",
    "        elif action == 'l': #left\n",
    "            checkMove((0,-1))\n",
    "        elif action == 'r': #right\n",
    "            checkMove((0,1))\n",
    "        else:\n",
    "            pass\n",
    "              \n",
    "    def reward(self):\n",
    "        if (self.board.components['Player'].pos == self.board.components['Pit'].pos):\n",
    "            return -1\n",
    "        elif (self.board.components['Player'].pos == self.board.components['Goal'].pos):\n",
    "            return 1\n",
    "        else:\n",
    "            return 0\n",
    "\n",
    "    def display(self):\n",
    "        return self.board.render()"
   ]
  },
  {
   "cell_type": "code",
   "execution_count": 45,
   "id": "0d4083e9-6a67-4ff8-bbc8-7182a14444ed",
   "metadata": {},
   "outputs": [
    {
     "data": {
      "text/plain": [
       "array([['+', '-', ' ', 'P'],\n",
       "       [' ', 'W', ' ', ' '],\n",
       "       [' ', ' ', ' ', ' '],\n",
       "       [' ', ' ', ' ', ' ']], dtype='<U2')"
      ]
     },
     "execution_count": 45,
     "metadata": {},
     "output_type": "execute_result"
    }
   ],
   "source": [
    "game = Gridworld(size=4, mode='static')\n",
    "game.display()"
   ]
  },
  {
   "cell_type": "code",
   "execution_count": 39,
   "id": "8c7d332c-de19-4c1c-97c9-50c5bf6030db",
   "metadata": {},
   "outputs": [
    {
     "data": {
      "text/plain": [
       "array([['+', '-', ' ', ' '],\n",
       "       [' ', 'W', ' ', ' '],\n",
       "       [' ', ' ', 'P', ' '],\n",
       "       [' ', ' ', ' ', ' ']], dtype='<U2')"
      ]
     },
     "execution_count": 39,
     "metadata": {},
     "output_type": "execute_result"
    }
   ],
   "source": [
    "moves = ['d', 'd', 'l']\n",
    "for move in moves:\n",
    "    game.makeMove(move)\n",
    "game.display()"
   ]
  },
  {
   "cell_type": "code",
   "execution_count": 40,
   "id": "b4699908-c17a-49a6-b70d-d14ed5fcc809",
   "metadata": {},
   "outputs": [
    {
     "data": {
      "text/plain": [
       "0"
      ]
     },
     "execution_count": 40,
     "metadata": {},
     "output_type": "execute_result"
    }
   ],
   "source": [
    "game.reward()"
   ]
  },
  {
   "cell_type": "code",
   "execution_count": 41,
   "id": "b7f9ccd0-3f52-4b91-bd06-50cb62e08d14",
   "metadata": {},
   "outputs": [
    {
     "data": {
      "text/plain": [
       "array([[[0, 0, 0, 0],\n",
       "        [0, 0, 0, 0],\n",
       "        [0, 0, 1, 0],\n",
       "        [0, 0, 0, 0]],\n",
       "\n",
       "       [[1, 0, 0, 0],\n",
       "        [0, 0, 0, 0],\n",
       "        [0, 0, 0, 0],\n",
       "        [0, 0, 0, 0]],\n",
       "\n",
       "       [[0, 1, 0, 0],\n",
       "        [0, 0, 0, 0],\n",
       "        [0, 0, 0, 0],\n",
       "        [0, 0, 0, 0]],\n",
       "\n",
       "       [[0, 0, 0, 0],\n",
       "        [0, 1, 0, 0],\n",
       "        [0, 0, 0, 0],\n",
       "        [0, 0, 0, 0]]], dtype=uint8)"
      ]
     },
     "execution_count": 41,
     "metadata": {},
     "output_type": "execute_result"
    }
   ],
   "source": [
    "game.board.render_np()"
   ]
  },
  {
   "cell_type": "code",
   "execution_count": 42,
   "id": "c2274b06-7615-41ee-82c7-6d65eb56ff19",
   "metadata": {},
   "outputs": [
    {
     "data": {
      "text/plain": [
       "(4, 4, 4)"
      ]
     },
     "execution_count": 42,
     "metadata": {},
     "output_type": "execute_result"
    }
   ],
   "source": [
    "game.board.render_np().shape"
   ]
  },
  {
   "cell_type": "code",
   "execution_count": 26,
   "id": "aaa4d9bd-072c-49c5-b270-08fb2c24e58a",
   "metadata": {},
   "outputs": [],
   "source": [
    "l1 = 64\n",
    "l2 = 150\n",
    "l3 = 100\n",
    "l4 = 4\n",
    "\n",
    "model = nn.Sequential(\n",
    "    nn.Linear(l1, l2),\n",
    "    nn.ReLU(),\n",
    "    nn.Linear(l2, l3),\n",
    "    nn.ReLU(),\n",
    "    nn.Linear(l3, l4)\n",
    ")\n",
    "\n",
    "loss_fn = nn.MSELoss()\n",
    "learning_rate = 1e-3\n",
    "optimizer = torch.optim.Adam(model.parameters(), lr = learning_rate)\n",
    "gamme = 0.9\n",
    "epsilon = 1.0"
   ]
  },
  {
   "cell_type": "code",
   "execution_count": 27,
   "id": "a5a3dff1-5d07-40a7-8e22-4d9e7bf97288",
   "metadata": {},
   "outputs": [],
   "source": [
    "action_set = {\n",
    "    0: 'u',\n",
    "    1: 'd', \n",
    "    2: 'l',\n",
    "    3: 'r'\n",
    "}"
   ]
  },
  {
   "cell_type": "code",
   "execution_count": 58,
   "id": "a8beb2bc-0d88-4a74-a4c0-4c6fa8f1cffd",
   "metadata": {},
   "outputs": [],
   "source": [
    "epochs = 5000\n",
    "losses = []\n",
    "\n",
    "for i in range(epochs):\n",
    "    game = Gridworld(size=4, mode='static')\n",
    "    state_ = game.board.render_np().reshape(1, 64) + np.random.rand(1, 64) / 10.0\n",
    "    state1 = torch.from_numpy(state_).float()\n",
    "    status = 1\n",
    "    while status == 1:\n",
    "        qval = model(state1)\n",
    "        qval_ = qval.detach().numpy()\n",
    "        if random.random() < epsilon:\n",
    "            action_ = np.random.randint(0, 4)\n",
    "        else:\n",
    "            action_ = np.argmax(qval_)\n",
    "        action = action_set[action_]\n",
    "        game.makeMove(action)\n",
    "        state2_ = game.board.render_np().reshape(1, 64) + np.random.rand(1, 64) / 10.0\n",
    "        state2 = torch.from_numpy(state2_).float()\n",
    "        reward = game.reward()\n",
    "        with torch.no_grad():\n",
    "            newQ = model(state2.reshape(1, 64))\n",
    "        maxQ = torch.max(newQ)\n",
    "        if reward == -1:\n",
    "            Y = reward + (gamma * maxQ)\n",
    "        else:\n",
    "            Y = reward\n",
    "        Y = torch.Tensor([Y]).detach()\n",
    "        X = qval.squeeze()[action_]\n",
    "        loss = loss_fn(X, Y)\n",
    "        optimizer.zero_grad()\n",
    "        loss.backward()\n",
    "        losses.append(loss.item())\n",
    "        optimizer.step()\n",
    "        state1 = state2\n",
    "        if reward != -1:\n",
    "            status = 0\n",
    "    if epsilon > 0.1:\n",
    "        epsilon -= (1/epochs)"
   ]
  },
  {
   "cell_type": "code",
   "execution_count": 74,
   "id": "6c6c9549-98f1-4bf2-8cfa-f5fa2cc3c224",
   "metadata": {},
   "outputs": [
    {
     "data": {
      "text/plain": [
       "<matplotlib.collections.PathCollection at 0x177985410>"
      ]
     },
     "execution_count": 74,
     "metadata": {},
     "output_type": "execute_result"
    },
    {
     "data": {
      "image/png": "[encoded data removed]",
      "text/plain": [
       "<Figure size 1000x600 with 1 Axes>"
      ]
     },
     "metadata": {},
     "output_type": "display_data"
    }
   ],
   "source": [
    "plt.figure(figsize=(10, 6))\n",
    "plt.scatter(np.arange(len(losses[:1000])), losses[:1000], s=5)"
   ]
  },
  {
   "cell_type": "code",
   "execution_count": null,
   "id": "7d1cd8a5-59b6-4bb3-b6b4-36dbb4e227a7",
   "metadata": {},
   "outputs": [],
   "source": []
  }
 ],
 "metadata": {
  "kernelspec": {
   "display_name": "Python 3 (ipykernel)",
   "language": "python",
   "name": "python3"
  },
  "language_info": {
   "codemirror_mode": {
    "name": "ipython",
    "version": 3
   },
   "file_extension": ".py",
   "mimetype": "text/x-python",
   "name": "python",
   "nbconvert_exporter": "python",
   "pygments_lexer": "ipython3",
   "version": "3.11.8"
  }
 },
 "nbformat": 4,
 "nbformat_minor": 5
}
